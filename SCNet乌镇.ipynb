{
 "cells": [
  {
   "cell_type": "markdown",
   "id": "54d7a97d",
   "metadata": {},
   "source": [
    "1、首页人工智能和高性能计算属于不同的通道，两者之间的充值是不互通的（人工智能主要是GPU，高性能计算主要是CPU）\n",
    "\n",
    "\n",
    "![SCNet主界面](./file/image001.png)"
   ]
  },
  {
   "cell_type": "markdown",
   "id": "08e54b15",
   "metadata": {},
   "source": [
    "2、进来之后可以选购合适的GPU（主要分为异构加速卡（国产）和NVIDIA卡），异构卡要相对便宜些\n",
    "\n",
    "\n",
    "![SCNet GPU选择界面](./file/image002.png)"
   ]
  },
  {
   "cell_type": "markdown",
   "id": "7c6376d7",
   "metadata": {},
   "source": [
    "3、以异构卡(试用卡异构加速卡16GB)为例，选择合适的镜像（基础镜像Torch、Tensorflow版本等）\n",
    "\n",
    "\n",
    "![镜像选择界面](./file/image003.png)\n",
    "\n",
    "![深度学习框架版本选择界面](./file/image004.png)"
   ]
  },
  {
   "cell_type": "markdown",
   "id": "9688a425",
   "metadata": {},
   "source": [
    "4、创建完成之后“我的资源”选择“容器实例”\n",
    "\n",
    "\n",
    "![“我的资源“界面](./file/image005.png)\n",
    "\n",
    "![“容器实例“界面](./file/image006.png)\n",
    "\n",
    "选择合适的“容器实例”开机，等待开机\n",
    "\n",
    "![开机界面](./file/image007.png)"
   ]
  },
  {
   "cell_type": "markdown",
   "id": "4425f389",
   "metadata": {},
   "source": [
    "5、开机后进入“jupyter notebook界面”，也可以选择“ssh界面”，用命令行管理环境\n",
    "\n",
    "\n",
    "![jupyter进入界面](./file/image008.png)\n",
    "\n",
    "![容器选择界面-ssh界面](./file/image009.png)\n",
    "\n",
    "![ssh进入界面](./file/image010.png)"
   ]
  },
  {
   "cell_type": "markdown",
   "id": "6e5cce9c",
   "metadata": {},
   "source": [
    "6、Shell界面输入pip list可查看GPU环境里各个库的版本详细信息 \n",
    "\n",
    "\n",
    "![环境细节界面](./file/image011.png)"
   ]
  },
  {
   "cell_type": "markdown",
   "id": "22bdd684",
   "metadata": {},
   "source": [
    "7、系统禁止在默认环境下安装torch 2.0.1+das.opt1.dtk24042这些库的操作，在没有anaconda的情况下，采用以下指令创建新的环境，并将默认环境下的所有库copy过去\n",
    "\n",
    "命令如下：  \n",
    "        python -m venv name(自定义环境名) --system-site-packages\n",
    "  \n",
    "例如创建名称为“test”的环境:  \n",
    "python -m venv test --system-site-packages\n",
    "  \n",
    "创建完之后采用以下命令使环境生效：  \n",
    "source test/bin/activate\n",
    "  \n",
    "依次使用以下命令可将环境添加到jupyter中  \n",
    "  \n",
    "pip install ipykernel\n",
    "  \n",
    "python -m ipykernel install --name py35  \n",
    "  \n",
    "jupyter kernelspec list  \n",
    "  \n",
    "右上角可选择新的名为“test”的新环境  \n",
    "  \n",
    "![kernel选择界面](./file/image012.png)"
   ]
  },
  {
   "cell_type": "markdown",
   "id": "8213cdb5",
   "metadata": {},
   "source": [
    "8、可以将配置好的镜像（包含环境配置）保存下来，下次创建新的时可选择自己的镜像\n",
    "\n",
    "\n",
    "![镜像保存界面](./file/image013.png)"
   ]
  },
  {
   "cell_type": "markdown",
   "id": "5208686d",
   "metadata": {},
   "source": [
    "9、控制台主界面可以选择多种访问GPU的进入方式（可按自己喜好选择）\n",
    "\n",
    "\n",
    "![进入方式选择界面](./file/image014.png)"
   ]
  },
  {
   "cell_type": "markdown",
   "id": "80c57b43",
   "metadata": {},
   "source": [
    "10、采用“快传”软件从本地传输到服务器文件\n",
    "\n",
    "\n",
    "![快传传输界面](./file/image015.png)\n",
    "\n",
    "![模型训练界面（一些与cuda适配的加速库和量化的库对异构卡有影响，不确定是否是过拟合的原因）](./file/image016.png)"
   ]
  },
  {
   "cell_type": "markdown",
   "id": "2f0864e0",
   "metadata": {},
   "source": [
    "11、进入jupyter中\n",
    "\n",
    "import sys\n",
    "print(sys.executable)\n",
    "！当前路径 -m pip install rainflow"
   ]
  },
  {
   "cell_type": "markdown",
   "id": "e15ed7c3",
   "metadata": {},
   "source": []
  }
 ],
 "metadata": {
  "language_info": {
   "name": "python"
  }
 },
 "nbformat": 4,
 "nbformat_minor": 5
}
